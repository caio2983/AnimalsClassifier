{
 "cells": [
  {
   "cell_type": "code",
   "execution_count": null,
   "id": "f40b6749-8fad-4c20-8d0a-9f4b7f953425",
   "metadata": {},
   "outputs": [],
   "source": [
    "\n",
    "import numpy as np \n",
    "import pandas as pd \n",
    "import matplotlib.pyplot as plt\n",
    "import seaborn as sns\n",
    "import kagglehub\n",
    "from sklearn.model_selection import train_test_split\n",
    "import requests\n",
    "import os\n",
    "import concurrent.futures"
   ]
  },
  {
   "cell_type": "markdown",
   "id": "f88b9a3d-fcc0-4f67-a47a-217f35058d74",
   "metadata": {},
   "source": [
    "Creating the directories that will receive the images"
   ]
  },
  {
   "cell_type": "code",
   "execution_count": 1,
   "id": "08bd7529-5e6f-435b-b21d-99cedc8b6201",
   "metadata": {},
   "outputs": [
    {
     "ename": "NameError",
     "evalue": "name 'os' is not defined",
     "output_type": "error",
     "traceback": [
      "\u001b[31m---------------------------------------------------------------------------\u001b[39m",
      "\u001b[31mNameError\u001b[39m                                 Traceback (most recent call last)",
      "\u001b[36mCell\u001b[39m\u001b[36m \u001b[39m\u001b[32mIn[1]\u001b[39m\u001b[32m, line 6\u001b[39m\n\u001b[32m      3\u001b[39m     os.makedirs(\u001b[33m'\u001b[39m\u001b[33mimages/ducks\u001b[39m\u001b[33m'\u001b[39m, exist_ok=\u001b[38;5;28;01mTrue\u001b[39;00m)\n\u001b[32m      4\u001b[39m     os.makedirs(\u001b[33m'\u001b[39m\u001b[33mimages/foxes\u001b[39m\u001b[33m'\u001b[39m, exist_ok=\u001b[38;5;28;01mTrue\u001b[39;00m)\n\u001b[32m----> \u001b[39m\u001b[32m6\u001b[39m \u001b[43mcheck_directories\u001b[49m\u001b[43m(\u001b[49m\u001b[43m)\u001b[49m  \n",
      "\u001b[36mCell\u001b[39m\u001b[36m \u001b[39m\u001b[32mIn[1]\u001b[39m\u001b[32m, line 2\u001b[39m, in \u001b[36mcheck_directories\u001b[39m\u001b[34m()\u001b[39m\n\u001b[32m      1\u001b[39m \u001b[38;5;28;01mdef\u001b[39;00m\u001b[38;5;250m \u001b[39m\u001b[34mcheck_directories\u001b[39m():\n\u001b[32m----> \u001b[39m\u001b[32m2\u001b[39m     \u001b[43mos\u001b[49m.makedirs(\u001b[33m'\u001b[39m\u001b[33mimages/dogs\u001b[39m\u001b[33m'\u001b[39m, exist_ok=\u001b[38;5;28;01mTrue\u001b[39;00m)\n\u001b[32m      3\u001b[39m     os.makedirs(\u001b[33m'\u001b[39m\u001b[33mimages/ducks\u001b[39m\u001b[33m'\u001b[39m, exist_ok=\u001b[38;5;28;01mTrue\u001b[39;00m)\n\u001b[32m      4\u001b[39m     os.makedirs(\u001b[33m'\u001b[39m\u001b[33mimages/foxes\u001b[39m\u001b[33m'\u001b[39m, exist_ok=\u001b[38;5;28;01mTrue\u001b[39;00m)\n",
      "\u001b[31mNameError\u001b[39m: name 'os' is not defined"
     ]
    }
   ],
   "source": [
    "def check_directories():\n",
    "    os.makedirs('images/dogs', exist_ok=True)\n",
    "    os.makedirs('images/ducks', exist_ok=True)\n",
    "    os.makedirs('images/foxes', exist_ok=True)\n",
    "\n",
    "check_directories()  "
   ]
  },
  {
   "cell_type": "code",
   "execution_count": null,
   "id": "0c5e1c4c-f7ab-48e4-b8d4-97d29c405ac4",
   "metadata": {},
   "outputs": [],
   "source": [
    "def get_images(api_url):\n",
    "    r = requests.get(api_url)\n",
    "    data = r.json()\n",
    "\n",
    "    if(api_url == 'https://randomfox.ca/floof/'):\n",
    "        second_key = list(data.keys())[0]\n",
    "    else:\n",
    "        second_key = list(data.keys())[1]\n",
    "    \n",
    "    return data[second_key]\n",
    "\n"
   ]
  },
  {
   "cell_type": "code",
   "execution_count": null,
   "id": "6c0ac3ec-adbf-40fc-ad90-f078fc10b5db",
   "metadata": {},
   "outputs": [],
   "source": [
    "\n",
    "def download_images(i,animal):\n",
    "\n",
    "    try:\n",
    "        while True:\n",
    "            if(animal == 'dog'):\n",
    "                url = get_images('https://random.dog/woof.json')\n",
    "            elif(animal == 'foxe'):\n",
    "                url = get_images('https://randomfox.ca/floof/')\n",
    "            elif(animal == 'duck'):\n",
    "                url = get_images('https://random-d.uk/api/random?type=jpg')\n",
    "            \n",
    "         \n",
    "            img_data = requests.get(url)\n",
    "           \n",
    "            if url.endswith(('.mp4', '.webm', 'gif')):\n",
    "                print(f\"[{i}] Video/Gif detected , trying again...\")\n",
    "                continue \n",
    "\n",
    "            file_path = f'images/{animal}s/{animal}_{i}.jpg'\n",
    "\n",
    "            with open(file_path, 'wb') as f:\n",
    "                f.write(img_data.content)\n",
    "\n",
    "            print(f\"Successfully downloaded: {file_path}\")\n",
    "            break\n",
    "    except Exception as e:\n",
    "        print(f\"error: {e}\")\n",
    "        raise\n",
    "\n",
    "\n",
    "total_images = 1000\n",
    "\n",
    "check_directories()\n",
    "\n",
    "animals = ['foxe','duck','dog']\n",
    "\n",
    "\n",
    "\n",
    "with concurrent.futures.ThreadPoolExecutor(max_workers=100) as executor:\n",
    "    for animal in animals:\n",
    "        futures = [executor.submit(download_images, i, animal) for i in range(1, total_images + 1)]\n",
    "        concurrent.futures.wait(futures)\n",
    "\n"
   ]
  },
  {
   "cell_type": "code",
   "execution_count": null,
   "id": "c96cf340-5e56-4234-b162-cb3562546027",
   "metadata": {},
   "outputs": [],
   "source": [
    "from PIL import Image\n",
    "import numpy as np\n",
    "\n",
    "\n",
    "animals = ['foxe','duck','dog']\n",
    "\n",
    "x_dict = {\n",
    "    'foxe': [],\n",
    "    'duck': [],\n",
    "    'dog': []\n",
    "}\n",
    "\n",
    "y_dict = {\n",
    "    'foxe': [],\n",
    "    'duck': [],\n",
    "    'dog': []\n",
    "}\n",
    "\n"
   ]
  },
  {
   "cell_type": "code",
   "execution_count": null,
   "id": "43b48b79-d0ed-4f9e-844d-cbb37126f907",
   "metadata": {},
   "outputs": [],
   "source": [
    "x_dict['foxe'] = []\n",
    "x_dict['duck'] = []\n",
    "x_dict['dog'] = []\n",
    "\n",
    "y_dict['foxe'] = []\n",
    "y_dict['duck'] = []\n",
    "y_dict['dog'] = []\n"
   ]
  },
  {
   "cell_type": "code",
   "execution_count": null,
   "id": "d523bfd2-46e0-4ca7-9247-10a80a265ebc",
   "metadata": {},
   "outputs": [],
   "source": [
    "\n",
    "for animal in animals:\n",
    "\n",
    "  for i in range(1,1001):\n",
    "    \n",
    "\n",
    "      file_path = f'images/{animal}s/{animal}_{i}.jpg'      \n",
    "      image = Image.open(file_path).convert('RGB')\n",
    "      image = image.resize((64,64))\n",
    "      image_array = np.array(image)\n",
    "      x_dict[animal].append(image_array)\n",
    "      y_dict[animal].append(f'{animal}')\n",
    "\n"
   ]
  },
  {
   "cell_type": "code",
   "execution_count": null,
   "id": "2a5c7658-0ce1-491a-b0c4-35d5bd8f0d4b",
   "metadata": {},
   "outputs": [],
   "source": [
    "\n",
    "X = x_dict['foxe'] + x_dict['duck'] + x_dict['dog']\n",
    "y = y_dict['foxe'] + y_dict['duck'] + y_dict['dog']\n",
    "\n"
   ]
  },
  {
   "cell_type": "code",
   "execution_count": null,
   "id": "9e56ef71-120f-4184-bd35-3ec033413235",
   "metadata": {},
   "outputs": [],
   "source": [
    "result = 0\n",
    "\n",
    "for images in X:\n",
    "    if images.shape != (64,64,3):\n",
    "        images = images[:,:,3]\n",
    "        result += 1\n",
    "\n"
   ]
  },
  {
   "cell_type": "code",
   "execution_count": null,
   "id": "088291f5-d065-4671-b4f4-2eb0b3c84c83",
   "metadata": {},
   "outputs": [],
   "source": [
    "from sklearn.linear_model import LogisticRegression\n",
    "\n",
    "X = X.reshape((X.shape[0], -1))  \n",
    "\n",
    "\n",
    "X_train, X_test, y_train, y_test = train_test_split(X, y, test_size=0.2, shuffle=True, random_state=42)\n",
    "\n",
    "# instantiate the model\n",
    "logreg = LogisticRegression(solver='liblinear', random_state=42)\n",
    "\n",
    "# fit the model\n",
    "logreg.fit(X_train, y_train)"
   ]
  },
  {
   "cell_type": "code",
   "execution_count": null,
   "id": "486aadfe-3bcb-40d6-88cf-5da1b4e9a75d",
   "metadata": {},
   "outputs": [],
   "source": [
    "y_pred = logreg.predict(X_test)\n"
   ]
  },
  {
   "cell_type": "code",
   "execution_count": null,
   "id": "974fe8c2-c9b4-41dc-8fea-9259612624df",
   "metadata": {},
   "outputs": [],
   "source": [
    "from sklearn.metrics import accuracy_score\n",
    "\n",
    "accuracy = accuracy_score(y_test, y_pred)\n",
    "print(f'Accuracy in test set: {accuracy:.2f}')"
   ]
  },
  {
   "cell_type": "code",
   "execution_count": null,
   "id": "08277fa0-e750-469d-ab31-40635a5d07c4",
   "metadata": {},
   "outputs": [],
   "source": [
    "from sklearn.metrics import classification_report\n",
    "\n",
    "print(classification_report(y_test, y_pred))"
   ]
  },
  {
   "cell_type": "code",
   "execution_count": null,
   "id": "2634ac44-5472-4827-be98-c57b8171a815",
   "metadata": {},
   "outputs": [],
   "source": [
    "from sklearn.metrics import confusion_matrix\n",
    "import seaborn as sns\n",
    "import matplotlib.pyplot as plt\n",
    "\n",
    "cm = confusion_matrix(y_test, y_pred)\n",
    "sns.heatmap(cm, annot=True, fmt='d', cmap='Blues',\n",
    "            xticklabels=animals, yticklabels=animals)\n",
    "plt.xlabel(\"Predicted\")\n",
    "plt.ylabel(\"Real\")\n",
    "plt.title(\"Confusion Matrix\")\n",
    "plt.show()\n"
   ]
  }
 ],
 "metadata": {
  "kernelspec": {
   "display_name": "Python 3 (ipykernel)",
   "language": "python",
   "name": "python3"
  },
  "language_info": {
   "codemirror_mode": {
    "name": "ipython",
    "version": 3
   },
   "file_extension": ".py",
   "mimetype": "text/x-python",
   "name": "python",
   "nbconvert_exporter": "python",
   "pygments_lexer": "ipython3",
   "version": "3.11.9"
  }
 },
 "nbformat": 4,
 "nbformat_minor": 5
}
